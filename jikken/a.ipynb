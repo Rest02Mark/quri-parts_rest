{
 "cells": [
  {
   "cell_type": "code",
   "execution_count": 1,
   "metadata": {},
   "outputs": [],
   "source": [
    "from quri_parts.circuit import X, RX, CNOT\n",
    "from math import pi\n",
    "from quri_parts.qulacs.circuit import convert_circuit\n",
    "from quri_parts.circuit import QuantumCircuit\n",
    "\n",
    "# Create a circuit for 3 qubits\n",
    "circuit = QuantumCircuit(3)\n",
    "# Add an already created QuantumGate object\n",
    "circuit.add_gate(X(0))\n",
    "# Or use methods to add gates\n",
    "circuit.add_X_gate(0)\n",
    "circuit.add_RX_gate(1, pi/3)\n",
    "circuit.add_CNOT_gate(2, 1)\n",
    "circuit.add_PauliRotation_gate(target_qubits=(0, 1, 2), pauli_id_list=(1, 2, 3), angle=pi/3)\n"
   ]
  },
  {
   "cell_type": "code",
   "execution_count": 2,
   "metadata": {},
   "outputs": [
    {
     "name": "stdout",
     "output_type": "stream",
     "text": [
      "helper function from quri_parts\n",
      "helper function from scaluq/circuit\n",
      "in convert_gate_f32 and gate.name is  Identity\n"
     ]
    },
    {
     "name": "stderr",
     "output_type": "stream",
     "text": [
      "Kokkos::OpenMP::initialize WARNING: OMP_PROC_BIND environment variable not set\n",
      "  In general, for best performance with OpenMP 4.0 or better set OMP_PROC_BIND=spread and OMP_PLACES=threads\n",
      "  For best performance with OpenMP 3.1 set OMP_PROC_BIND=true\n",
      "  For unit testing set OMP_PROC_BIND=false\n",
      "\n"
     ]
    },
    {
     "ename": "TypeError",
     "evalue": "I(): incompatible function arguments. The following argument types are supported:\n    1. I() -> scaluq.scaluq_core.f32.Gate\n\nInvoked with types: int",
     "output_type": "error",
     "traceback": [
      "\u001b[0;31m---------------------------------------------------------------------------\u001b[0m",
      "\u001b[0;31mTypeError\u001b[0m                                 Traceback (most recent call last)",
      "Cell \u001b[0;32mIn[2], line 24\u001b[0m\n\u001b[1;32m     20\u001b[0m c\u001b[38;5;241m.\u001b[39madd_Identity_gate(\u001b[38;5;241m0\u001b[39m)\n\u001b[1;32m     21\u001b[0m \u001b[38;5;66;03m#c.add_Pauli_gate([0, 1], [1, 2])\u001b[39;00m\n\u001b[1;32m     22\u001b[0m \u001b[38;5;66;03m#c.add_UnitaryMatrix_gate([0], [[1, 0], [0, 1]])\u001b[39;00m\n\u001b[0;32m---> 24\u001b[0m scaluq_circuit \u001b[38;5;241m=\u001b[39m \u001b[43maaa_circuit\u001b[49m\u001b[38;5;241;43m.\u001b[39;49m\u001b[43mconvert_circuit_f32\u001b[49m\u001b[43m(\u001b[49m\u001b[43mc\u001b[49m\u001b[43m)\u001b[49m\n\u001b[1;32m     25\u001b[0m aaa_circuit\u001b[38;5;241m.\u001b[39mkakunin(c)\n\u001b[1;32m     26\u001b[0m \u001b[38;5;28mprint\u001b[39m(scaluq_circuit)\n",
      "File \u001b[0;32m~/baito/quri-parts/packages/scaluq/quri_parts/scaluq/circuit/__init__.py:263\u001b[0m, in \u001b[0;36mconvert_circuit_f32\u001b[0;34m(circuit)\u001b[0m\n\u001b[1;32m    259\u001b[0m scaluq_f32_circuit \u001b[38;5;241m=\u001b[39m scaluq\u001b[38;5;241m.\u001b[39mf32\u001b[38;5;241m.\u001b[39mCircuit(circuit\u001b[38;5;241m.\u001b[39mqubit_count)\n\u001b[1;32m    261\u001b[0m \u001b[38;5;28;01mfor\u001b[39;00m gate \u001b[38;5;129;01min\u001b[39;00m circuit\u001b[38;5;241m.\u001b[39mgates:\n\u001b[1;32m    262\u001b[0m     \u001b[38;5;66;03m#print(convert_gate_f32(gate))\u001b[39;00m\n\u001b[0;32m--> 263\u001b[0m     scaluq_f32_circuit\u001b[38;5;241m.\u001b[39madd_gate(\u001b[43mconvert_gate_f32\u001b[49m\u001b[43m(\u001b[49m\u001b[43mgate\u001b[49m\u001b[43m)\u001b[49m)\n\u001b[1;32m    265\u001b[0m \u001b[38;5;28mprint\u001b[39m(\u001b[38;5;124m\"\u001b[39m\u001b[38;5;124mconvert end f32.\u001b[39m\u001b[38;5;124m\"\u001b[39m)\n\u001b[1;32m    267\u001b[0m \u001b[38;5;28;01mreturn\u001b[39;00m scaluq_f32_circuit\n",
      "File \u001b[0;32m~/baito/quri-parts/packages/scaluq/quri_parts/scaluq/circuit/__init__.py:215\u001b[0m, in \u001b[0;36mconvert_gate_f32\u001b[0;34m(gate)\u001b[0m\n\u001b[1;32m    213\u001b[0m \u001b[38;5;28;01mif\u001b[39;00m is_single_qubit_gate_name(gate\u001b[38;5;241m.\u001b[39mname):\n\u001b[1;32m    214\u001b[0m     \u001b[38;5;28;01mif\u001b[39;00m gate\u001b[38;5;241m.\u001b[39mname \u001b[38;5;129;01min\u001b[39;00m _single_qubit_gate_scaluq_f32:\n\u001b[0;32m--> 215\u001b[0m         \u001b[38;5;28;01mreturn\u001b[39;00m \u001b[43m_single_qubit_gate_scaluq_f32\u001b[49m\u001b[43m[\u001b[49m\u001b[43mgate\u001b[49m\u001b[38;5;241;43m.\u001b[39;49m\u001b[43mname\u001b[49m\u001b[43m]\u001b[49m\u001b[43m(\u001b[49m\n\u001b[1;32m    216\u001b[0m \u001b[43m            \u001b[49m\u001b[38;5;241;43m*\u001b[39;49m\u001b[43mgate\u001b[49m\u001b[38;5;241;43m.\u001b[39;49m\u001b[43mtarget_indices\u001b[49m\u001b[43m,\u001b[49m\u001b[43m \u001b[49m\u001b[38;5;241;43m*\u001b[39;49m\u001b[43mgate\u001b[49m\u001b[38;5;241;43m.\u001b[39;49m\u001b[43mparams\u001b[49m\n\u001b[1;32m    217\u001b[0m \u001b[43m        \u001b[49m\u001b[43m)\u001b[49m\n\u001b[1;32m    218\u001b[0m     \u001b[38;5;28;01melif\u001b[39;00m gate\u001b[38;5;241m.\u001b[39mname \u001b[38;5;241m==\u001b[39m gate_names\u001b[38;5;241m.\u001b[39mU1:\n\u001b[1;32m    219\u001b[0m         \u001b[38;5;28;01mreturn\u001b[39;00m _u1_gate_scaluq_f32(gate)\n",
      "\u001b[0;31mTypeError\u001b[0m: I(): incompatible function arguments. The following argument types are supported:\n    1. I() -> scaluq.scaluq_core.f32.Gate\n\nInvoked with types: int"
     ]
    }
   ],
   "source": [
    "import sys\n",
    "from quri_parts.circuit import X, RX, CNOT\n",
    "from math import pi\n",
    "from quri_parts.qulacs.circuit import convert_circuit\n",
    "from quri_parts.circuit import QuantumCircuit\n",
    "\n",
    "sys.path.append(\"/home/rest/baito/quri-parts/packages/scaluq\")\n",
    "import quri_parts.scaluq as aaa\n",
    "import quri_parts.scaluq.circuit as aaa_circuit\n",
    "\n",
    "\n",
    "aaa.helper_function()\n",
    "aaa_circuit.scaluq_circuit_helper_function()\n",
    "\n",
    "#scaluq_aaa.helper_function()\n",
    "#scaluq_aaa.circuit.scaluq_circuit_helper_function()\n",
    "#scaluq_aaa.circuit.kakunin(circuit)\n",
    "\n",
    "c = QuantumCircuit(2)\n",
    "c.add_Identity_gate(0)\n",
    "#c.add_Pauli_gate([0, 1], [1, 2])\n",
    "#c.add_UnitaryMatrix_gate([0], [[1, 0], [0, 1]])\n",
    "\n",
    "scaluq_circuit = aaa_circuit.convert_circuit_f32(c)\n",
    "aaa_circuit.kakunin(c)\n",
    "print(scaluq_circuit)\n",
    "\n",
    "#from packages.scaluq.quri_parts import scaluq_aaa\n",
    "\n",
    "#scaluq_aaa.helper_function()\n"
   ]
  },
  {
   "cell_type": "code",
   "execution_count": 2,
   "metadata": {},
   "outputs": [
    {
     "name": "stdout",
     "output_type": "stream",
     "text": [
      "helper function from scaluq/circuit\n",
      "g:  QuantumGate(name='X', target_indices=(7,), control_indices=(), classical_indices=(), params=(), pauli_ids=(), unitary_matrix=())\n",
      "in convert_gate_f32 and gate.name is  X\n",
      "g:  QuantumGate(name='Y', target_indices=(7,), control_indices=(), classical_indices=(), params=(), pauli_ids=(), unitary_matrix=())\n",
      "in convert_gate_f32 and gate.name is  Y\n",
      "g:  QuantumGate(name='Z', target_indices=(7,), control_indices=(), classical_indices=(), params=(), pauli_ids=(), unitary_matrix=())\n",
      "in convert_gate_f32 and gate.name is  Z\n",
      "g:  QuantumGate(name='H', target_indices=(7,), control_indices=(), classical_indices=(), params=(), pauli_ids=(), unitary_matrix=())\n",
      "in convert_gate_f32 and gate.name is  H\n",
      "g:  QuantumGate(name='S', target_indices=(7,), control_indices=(), classical_indices=(), params=(), pauli_ids=(), unitary_matrix=())\n",
      "in convert_gate_f32 and gate.name is  S\n",
      "g:  QuantumGate(name='Sdag', target_indices=(7,), control_indices=(), classical_indices=(), params=(), pauli_ids=(), unitary_matrix=())\n",
      "in convert_gate_f32 and gate.name is  Sdag\n",
      "g:  QuantumGate(name='SqrtX', target_indices=(7,), control_indices=(), classical_indices=(), params=(), pauli_ids=(), unitary_matrix=())\n",
      "in convert_gate_f32 and gate.name is  SqrtX\n",
      "g:  QuantumGate(name='SqrtXdag', target_indices=(7,), control_indices=(), classical_indices=(), params=(), pauli_ids=(), unitary_matrix=())\n",
      "in convert_gate_f32 and gate.name is  SqrtXdag\n",
      "g:  QuantumGate(name='SqrtY', target_indices=(7,), control_indices=(), classical_indices=(), params=(), pauli_ids=(), unitary_matrix=())\n",
      "in convert_gate_f32 and gate.name is  SqrtY\n",
      "g:  QuantumGate(name='SqrtYdag', target_indices=(7,), control_indices=(), classical_indices=(), params=(), pauli_ids=(), unitary_matrix=())\n",
      "in convert_gate_f32 and gate.name is  SqrtYdag\n",
      "g:  QuantumGate(name='T', target_indices=(7,), control_indices=(), classical_indices=(), params=(), pauli_ids=(), unitary_matrix=())\n",
      "in convert_gate_f32 and gate.name is  T\n",
      "g:  QuantumGate(name='Tdag', target_indices=(7,), control_indices=(), classical_indices=(), params=(), pauli_ids=(), unitary_matrix=())\n",
      "in convert_gate_f32 and gate.name is  Tdag\n",
      "g:  QuantumGate(name='CNOT', target_indices=(7,), control_indices=(11,), classical_indices=(), params=(), pauli_ids=(), unitary_matrix=())\n",
      "in convert_gate_f32 and gate.name is  CNOT\n",
      "g:  QuantumGate(name='SWAP', target_indices=(11, 7), control_indices=(), classical_indices=(), params=(), pauli_ids=(), unitary_matrix=())\n",
      "in convert_gate_f32 and gate.name is  SWAP\n",
      "g:  QuantumGate(name='CZ', target_indices=(7,), control_indices=(11,), classical_indices=(), params=(), pauli_ids=(), unitary_matrix=())\n",
      "in convert_gate_f32 and gate.name is  CZ\n",
      "g:  QuantumGate(name='TOFFOLI', target_indices=(5,), control_indices=(11, 7), classical_indices=(), params=(), pauli_ids=(), unitary_matrix=())\n",
      "in convert_gate_f32 and gate.name is  TOFFOLI\n"
     ]
    }
   ],
   "source": [
    "from quri_parts.circuit import X, RX, CNOT\n",
    "from math import pi\n",
    "from quri_parts.qulacs.circuit import convert_circuit\n",
    "from quri_parts.circuit import QuantumCircuit\n",
    "import sys\n",
    "sys.path.append(\"/home/rest/baito/quri-parts/packages/scaluq\")\n",
    "import quri_parts.scaluq as aaa\n",
    "import quri_parts.scaluq.circuit as aaa_circuit\n",
    "\n",
    "import tests.circuit.test_convert_circuit as test_convert_circuit\n",
    "\n",
    "test_convert_circuit.a()\n",
    "test_convert_circuit.test_convert_single_qubit_gate_f32()\n",
    "test_convert_circuit.test_convert_two_qubit_gate_f32()\n",
    "test_convert_circuit.test_convert_three_qubit_gate_f32()\n",
    "#from tests.circuit.test_convert_circuit import a\n",
    "#a()"
   ]
  }
 ],
 "metadata": {
  "kernelspec": {
   "display_name": "quri-parts-d3dT6SY2-py3.10",
   "language": "python",
   "name": "python3"
  },
  "language_info": {
   "codemirror_mode": {
    "name": "ipython",
    "version": 3
   },
   "file_extension": ".py",
   "mimetype": "text/x-python",
   "name": "python",
   "nbconvert_exporter": "python",
   "pygments_lexer": "ipython3",
   "version": "3.10.12"
  }
 },
 "nbformat": 4,
 "nbformat_minor": 2
}
