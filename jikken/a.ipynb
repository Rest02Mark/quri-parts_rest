{
 "cells": [
  {
   "cell_type": "code",
   "execution_count": 1,
   "metadata": {},
   "outputs": [],
   "source": [
    "from quri_parts.circuit import X, RX, CNOT\n",
    "from math import pi\n",
    "from quri_parts.qulacs.circuit import convert_circuit\n",
    "from quri_parts.circuit import QuantumCircuit\n",
    "\n",
    "# Create a circuit for 3 qubits\n",
    "circuit = QuantumCircuit(3)\n",
    "# Add an already created QuantumGate object\n",
    "circuit.add_gate(X(0))\n",
    "# Or use methods to add gates\n",
    "circuit.add_X_gate(0)\n",
    "circuit.add_RX_gate(1, pi/3)\n",
    "circuit.add_CNOT_gate(2, 1)\n",
    "circuit.add_PauliRotation_gate(target_qubits=(0, 1, 2), pauli_id_list=(1, 2, 3), angle=pi/3)\n"
   ]
  },
  {
   "cell_type": "code",
   "execution_count": 2,
   "metadata": {},
   "outputs": [
    {
     "name": "stdout",
     "output_type": "stream",
     "text": [
      "helper function from quri_parts\n",
      "helper function from scaluq/circuit\n"
     ]
    },
    {
     "name": "stderr",
     "output_type": "stream",
     "text": [
      "Kokkos::OpenMP::initialize WARNING: OMP_PROC_BIND environment variable not set\n",
      "  In general, for best performance with OpenMP 4.0 or better set OMP_PROC_BIND=spread and OMP_PLACES=threads\n",
      "  For best performance with OpenMP 3.1 set OMP_PROC_BIND=true\n",
      "  For unit testing set OMP_PROC_BIND=false\n",
      "\n"
     ]
    }
   ],
   "source": [
    "import sys\n",
    "from quri_parts.circuit import X, RX, CNOT\n",
    "from math import pi\n",
    "from quri_parts.qulacs.circuit import convert_circuit\n",
    "from quri_parts.circuit import QuantumCircuit\n",
    "\n",
    "sys.path.append(\"/home/rest/baito/quri-parts/packages/scaluq\")\n",
    "import quri_parts.scaluq as aaa\n",
    "import quri_parts.scaluq.circuit as aaa_circuit\n",
    "\n",
    "\n",
    "aaa.helper_function()\n",
    "aaa_circuit.scaluq_circuit_helper_function()\n",
    "\n",
    "#scaluq_aaa.helper_function()\n",
    "#scaluq_aaa.circuit.scaluq_circuit_helper_function()\n",
    "#scaluq_aaa.circuit.kakunin(circuit)\n",
    "\n",
    "#c = QuantumCircuit(2)\n",
    "#c.add_X_gate(0)\n",
    "#c.add_Pauli_gate([0, 1], [1, 2])\n",
    "#c.add_UnitaryMatrix_gate([0], [[1, 0], [0, 1]])\n",
    "\n",
    "#scaluq_circuit = scaluq.circuit.convert_circuit_f32(c)\n",
    "#scaluq.circuit.kakunin(c)\n",
    "#print(scaluq_circuit)\n",
    "\n",
    "#from packages.scaluq.quri_parts import scaluq_aaa\n",
    "\n",
    "#scaluq_aaa.helper_function()\n"
   ]
  },
  {
   "cell_type": "code",
   "execution_count": 2,
   "metadata": {},
   "outputs": [
    {
     "name": "stdout",
     "output_type": "stream",
     "text": [
      "helper function from scaluq/circuit\n"
     ]
    }
   ],
   "source": [
    "import sys\n",
    "sys.path.append(\"/home/rest/baito/quri-parts/packages/scaluq\")\n",
    "import quri_parts.scaluq as aaa\n",
    "import quri_parts.scaluq.circuit as aaa_circuit\n",
    "\n",
    "import tests.circuit.test_convert_circuit\n",
    "tests.circuit.test_convert_circuit.a()\n",
    "#from tests.circuit.test_convert_circuit import a\n",
    "#a()"
   ]
  },
  {
   "cell_type": "code",
   "execution_count": 3,
   "metadata": {},
   "outputs": [
    {
     "name": "stdout",
     "output_type": "stream",
     "text": [
      "aaa\n",
      "['/usr/lib/python310.zip', '/usr/lib/python3.10', '/usr/lib/python3.10/lib-dynload', '', '/home/rest/.cache/pypoetry/virtualenvs/quri-parts-d3dT6SY2-py3.10/lib/python3.10/site-packages', '/home/rest/baito/quri-parts/packages/rust']\n"
     ]
    }
   ],
   "source": [
    "from e import aaa\n",
    "aaa()\n",
    "\n",
    "from aiueo import a\n",
    "#a.helper()\n",
    "import sys   # これが絶対 import\n",
    "print(sys.path)"
   ]
  },
  {
   "cell_type": "code",
   "execution_count": null,
   "metadata": {},
   "outputs": [],
   "source": []
  }
 ],
 "metadata": {
  "kernelspec": {
   "display_name": "quri-parts-d3dT6SY2-py3.10",
   "language": "python",
   "name": "python3"
  },
  "language_info": {
   "codemirror_mode": {
    "name": "ipython",
    "version": 3
   },
   "file_extension": ".py",
   "mimetype": "text/x-python",
   "name": "python",
   "nbconvert_exporter": "python",
   "pygments_lexer": "ipython3",
   "version": "3.10.12"
  }
 },
 "nbformat": 4,
 "nbformat_minor": 2
}
